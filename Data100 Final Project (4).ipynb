{
 "cells": [
  {
   "cell_type": "markdown",
   "metadata": {},
   "source": [
    "# Data100 Final Project - Predicting Championship Success\n",
    "### Angela Chen, Vera Wang, Michelle Li"
   ]
  },
  {
   "cell_type": "markdown",
   "metadata": {},
   "source": [
    "The goal of our project is to understand basketball teams that make it to the championships. What elements do these teams have in common? Do they have a specific strategy, a similar winning pattern, or the same types of players? Or, are these teams making it to the championships based on random factors/factors that cannot be quantitatively measured? We start off with cleaning our data to be more easily readable, and then we do some exploratory data analysis to better understand trends within the games. Next, we will analyze what factors (if any) are common between the teams that end up at the champsionships. Finally, we will try to use these factors to predict what teams will win the championships."
   ]
  },
  {
   "cell_type": "markdown",
   "metadata": {},
   "source": [
    "### Set up and Data Cleaning"
   ]
  },
  {
   "cell_type": "code",
   "execution_count": 2,
   "metadata": {},
   "outputs": [
    {
     "data": {
      "text/plain": [
       "PosixPath('/home/jovyan')"
      ]
     },
     "execution_count": 2,
     "metadata": {},
     "output_type": "execute_result"
    }
   ],
   "source": [
    "import seaborn as sns\n",
    "import csv\n",
    "import numpy as np\n",
    "import pandas as pd\n",
    "import matplotlib.pyplot as plt\n",
    "import json\n",
    "import zipfile\n",
    "from pathlib import Path\n",
    "\n",
    "Path.cwd()"
   ]
  },
  {
   "cell_type": "code",
   "execution_count": 29,
   "metadata": {},
   "outputs": [],
   "source": [
    "#Loading in dataset\n",
    "standings = pd.read_csv(\"Standings.csv\")\n",
    "collegeset = pd.read_csv(\"college.csv\")\n",
    "box_score = pd.read_csv(\"Basketball-BoxScores.csv\")\n",
    "player_box_score = pd.read_csv(\"Basketball-PlayerBoxScore.csv\")\n",
    "team_box_score = pd.read_csv(\"Basketball-TeamBoxScores.csv\")"
   ]
  },
  {
   "cell_type": "code",
   "execution_count": 36,
   "metadata": {},
   "outputs": [],
   "source": [
    "#Cleaning dataset \n",
    "college = collegeset.drop(columns = 'Unnamed: 0')"
   ]
  },
  {
   "cell_type": "markdown",
   "metadata": {},
   "source": [
    "### Exploratory Data Analysis"
   ]
  },
  {
   "cell_type": "markdown",
   "metadata": {},
   "source": [
    "Before diving into the different factors, we wanted to do some EDA to see if we could find any initial trends that really stood out to us (which could give us a \"lead\" on which factors to focus on). "
   ]
  },
  {
   "cell_type": "markdown",
   "metadata": {},
   "source": [
    "The first thing we wanted to do was to look at which teams had the most wins. Since the standings tables recorded the same amount of entries for each team, we can look at the raw numbers of wins instead of proportions."
   ]
  },
  {
   "cell_type": "code",
   "execution_count": 109,
   "metadata": {},
   "outputs": [
    {
     "data": {
      "text/plain": [
       "teamAbbr\n",
       "SAC    51\n",
       "PHI    46\n",
       "DEN    41\n",
       "LAL    40\n",
       "ATL    35\n",
       "dtype: int64"
      ]
     },
     "execution_count": 109,
     "metadata": {},
     "output_type": "execute_result"
    }
   ],
   "source": [
    "wins = standings[standings['gameWon'] == 1]\n",
    "byteam = wins.groupby('teamAbbr').size().sort_values(ascending = False)\n",
    "byteam.head(5)"
   ]
  },
  {
   "cell_type": "markdown",
   "metadata": {},
   "source": [
    "### Part 1: What Factors Cause Teams to go to the Championships?"
   ]
  },
  {
   "cell_type": "code",
   "execution_count": null,
   "metadata": {},
   "outputs": [],
   "source": []
  },
  {
   "cell_type": "code",
   "execution_count": null,
   "metadata": {},
   "outputs": [],
   "source": []
  },
  {
   "cell_type": "markdown",
   "metadata": {},
   "source": [
    "### Part 2: Predicting Championship Winners"
   ]
  },
  {
   "cell_type": "code",
   "execution_count": null,
   "metadata": {},
   "outputs": [],
   "source": []
  }
 ],
 "metadata": {
  "kernelspec": {
   "display_name": "Python 3",
   "language": "python",
   "name": "python3"
  },
  "language_info": {
   "codemirror_mode": {
    "name": "ipython",
    "version": 3
   },
   "file_extension": ".py",
   "mimetype": "text/x-python",
   "name": "python",
   "nbconvert_exporter": "python",
   "pygments_lexer": "ipython3",
   "version": "3.6.9"
  }
 },
 "nbformat": 4,
 "nbformat_minor": 4
}
